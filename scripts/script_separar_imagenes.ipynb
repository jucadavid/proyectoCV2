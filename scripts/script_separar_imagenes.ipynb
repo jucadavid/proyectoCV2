{
 "cells": [
  {
   "cell_type": "markdown",
   "metadata": {},
   "source": [
    "## Script para separar las imagenes"
   ]
  },
  {
   "cell_type": "code",
   "execution_count": 20,
   "metadata": {},
   "outputs": [],
   "source": [
    "#Importamos la libreria para el manejo de archivos\n",
    "import os\n",
    "import random\n",
    "from shutil import copyfile\n",
    "import shutil"
   ]
  },
  {
   "cell_type": "code",
   "execution_count": 21,
   "metadata": {},
   "outputs": [],
   "source": [
    "def img_train_test_split(img_source_dir, train_size, validation_size):\n",
    "    \"\"\"\n",
    "    Parametros\n",
    "    ----------\n",
    "    img_source_dir : string\n",
    "    Directorio de las imagenes     \n",
    "        \n",
    "    train_size : float\n",
    "    Porcentaje de la muestra de entrenamiento, ejemplo 0.80 (80%)\n",
    "    \n",
    "    validation_size : float\n",
    "    Porcentaje de la muestra de validación, ejemplo 0.15 (15%)\n",
    "    \n",
    "    El restante 5% quedaria para el numero de imagenes de prueba, imagenes que nunca ha visto el modelo \n",
    "    \"\"\"\n",
    "        \n",
    "    # Configurar la estructura de carpetas vacías si no existe\n",
    "    \n",
    "    if not os.path.exists('dataset'):\n",
    "        os.makedirs('dataset')        \n",
    "    else :\n",
    "        shutil.rmtree('dataset')\n",
    "    \n",
    "    subdir_fullpath = img_source_dir\n",
    "    \n",
    "    if len(os.listdir(subdir_fullpath)) == 0:\n",
    "        print(subdir_fullpath + ' is empty')\n",
    "\n",
    "    train_subdir = 'dataset/train'\n",
    "    validation_subdir = 'dataset/valid'\n",
    "    test_subdir = 'dataset/test'\n",
    "\n",
    "        \n",
    "    # Cree subdirectorios en carpetas de entrenamiento, validación y test\n",
    "    if not os.path.exists(train_subdir):\n",
    "        os.makedirs(train_subdir)\n",
    "\n",
    "    if not os.path.exists(validation_subdir):\n",
    "        os.makedirs(validation_subdir)\n",
    "            \n",
    "    if not os.path.exists(test_subdir):\n",
    "        os.makedirs(test_subdir)\n",
    "\n",
    "    train_counter = 0\n",
    "    validation_counter = 0\n",
    "    test_counter = 0\n",
    "    \n",
    "    # Contar el número de imagenes totales\n",
    "    count_images=0\n",
    "    for filename in os.listdir(subdir_fullpath):\n",
    "        if filename.endswith(\".jpg\"):  \n",
    "            count_images+= 1\n",
    "    print(count_images)\n",
    "    \n",
    "    total_images=count_images\n",
    "    count_images=0\n",
    "    \n",
    "    #Ordenar de manera aleatoria las imagenes\n",
    "    list_files=os.listdir(subdir_fullpath)\n",
    "    random.shuffle(list_files)\n",
    "    \n",
    "    #Separacion de imagenes\n",
    "    for filename in list_files:\n",
    "        if filename.endswith(\".jpg\"): \n",
    "            fileparts = filename.split('.')\n",
    "            if count_images <= int(total_images*train_size):\n",
    "                copyfile(os.path.join(subdir_fullpath, filename), os.path.join(train_subdir, filename))\n",
    "                copyfile(os.path.join(subdir_fullpath, fileparts[0] + '.txt'), os.path.join(train_subdir, fileparts[0] + '.txt') )\n",
    "                train_counter += 1\n",
    "            elif  count_images > int(total_images*train_size) and count_images <= int(total_images*(train_size + validation_size ))  :\n",
    "                copyfile(os.path.join(subdir_fullpath, filename), os.path.join(validation_subdir, filename))\n",
    "                copyfile(os.path.join(subdir_fullpath, fileparts[0] + '.txt'), os.path.join(validation_subdir, fileparts[0] + '.txt') )\n",
    "                validation_counter += 1\n",
    "            elif count_images > int(total_images*(train_size + validation_size )) :\n",
    "                copyfile(os.path.join(subdir_fullpath, filename), os.path.join(test_subdir,filename))\n",
    "                copyfile(os.path.join(subdir_fullpath, fileparts[0] + '.txt'), os.path.join(test_subdir, fileparts[0] + '.txt') )\n",
    "                test_counter += 1\n",
    "            count_images += 1\n",
    "                    \n",
    "    print('Copied ' + str(train_counter) + ' images to dataset/train/'  )\n",
    "    print('Copied ' + str(validation_counter) + ' images to dataset/validation/'  )\n",
    "    print('Copied ' + str(test_counter) + ' images to dataset/test/'  )\n",
    "    \n",
    "    #Copiar el archivo classes.txt a los diferentes directorios pero con otro nombre    \n",
    "    copyfile(os.path.join(subdir_fullpath, 'classes.txt'), os.path.join(train_subdir, \"_darknet.labels\"))\n",
    "    copyfile(os.path.join(subdir_fullpath, 'classes.txt'), os.path.join(validation_subdir, \"_darknet.labels\"))\n",
    "    copyfile(os.path.join(subdir_fullpath, 'classes.txt'), os.path.join(test_subdir, \"_darknet.labels\"))"
   ]
  },
  {
   "cell_type": "code",
   "execution_count": 22,
   "metadata": {},
   "outputs": [
    {
     "name": "stdout",
     "output_type": "stream",
     "text": [
      "205\n",
      "Copied 165 images to dataset/train/\n",
      "Copied 30 images to dataset/validation/\n",
      "Copied 10 images to dataset/test/\n"
     ]
    }
   ],
   "source": [
    "# 1: Directorio de las imagenes     \n",
    "# 2: Porcentaje de la muestra de entrenamiento, ejemplo 0.80 (80%)\n",
    "# 3: Porcentaje de la muestra de validación, ejemplo 0.15 (15%)\n",
    "# El restante 5% serán las imagenes de prueba\n",
    " \n",
    "img_train_test_split(\"all_images\", 0.80,0.15)"
   ]
  }
 ],
 "metadata": {
  "kernelspec": {
   "display_name": "Python 3",
   "language": "python",
   "name": "python3"
  },
  "language_info": {
   "codemirror_mode": {
    "name": "ipython",
    "version": 3
   },
   "file_extension": ".py",
   "mimetype": "text/x-python",
   "name": "python",
   "nbconvert_exporter": "python",
   "pygments_lexer": "ipython3",
   "version": "3.7.7"
  }
 },
 "nbformat": 4,
 "nbformat_minor": 4
}
